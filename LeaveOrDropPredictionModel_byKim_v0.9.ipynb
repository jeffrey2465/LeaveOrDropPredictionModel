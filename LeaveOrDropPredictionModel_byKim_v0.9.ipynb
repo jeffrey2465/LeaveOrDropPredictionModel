{
 "cells": [
  {
   "attachments": {},
   "cell_type": "markdown",
   "metadata": {},
   "source": [
    "# 로지스틱 회귀"
   ]
  },
  {
   "attachments": {},
   "cell_type": "markdown",
   "metadata": {},
   "source": [
    "<table align=\"left\">\n",
    "  <td>\n",
    "    <a target=\"_blank\" href=\"https://colab.research.google.com/github/rickiepark/hg-mldl/blob/master/4-1.ipynb\"><img src=\"https://www.tensorflow.org/images/colab_logo_32px.png\" />구글 코랩에서 실행하기</a>\n",
    "  </td>\n",
    "</table>"
   ]
  },
  {
   "attachments": {},
   "cell_type": "markdown",
   "metadata": {},
   "source": [
    "---\n",
    "# <span style=\"color:gold\">신입생(1학년) 데이터를 활용한 휴학/자퇴/제적 예측 머신러닝  </span>\n",
    "\n",
    "version 0.9 (2023.07.26)\n",
    "\n",
    "***\n",
    "\n",
    "### 사용데이터\n",
    "- 2000년~2022년 기간동안의 1학년 1학기 데이터 (4207명) \n",
    "- 휴학. 1학년 여름방학 ~ 1학년 겨울방학 이전까지 **휴학**한 신입생(1학년) 학생수 (2000명)\n",
    "- 자퇴. 1학년 여름방학 ~ 1학년 겨울방학 이전까지 **자퇴**한 신입생(1학년) 학생수 (946명)\n",
    "- 제적. 1학년 여름방학 ~ 1학년 겨울방학 이전까지 **제적**한 신입생(1학년) 학생수 (291명)\n",
    "* 데이터의 추출은 해당 기간내에 자퇴와 제적학생들을 거의 전수로 추출한 후 전체 인원이 4000명이 되도록 휴학과 자퇴인원을 최근 데이터부터 임의로 선정함\n",
    "\n",
    "### 정리데이터\n",
    "- 카테고리데이터 : 학번/검정고시여부/고교유형구분코드/고교위치/모집구분코드/전형구분코드\n",
    "- 정량데이터 : 중간고사/기말고사/출석점수/평점평균/백분위점수/상담건수/비교과건수/장학금\n",
    "- 최종예측대상 데이터 : 학적구분(4개의 카테고리를 두개로 묶어 <span style=\"color.red\">이진분류(휴학/자퇴/제적, 재학)</span>로 변환\n",
    "\n",
    "\n",
    "### 모델설계 사용 데이터\n",
    "- 모델설계를 위해 사용한 데이터는 정량데이터 8개만을 사용하여 예측모델 구현\n",
    "\n",
    "### 적용 머신러닝 알고리즘\n",
    "- 2 진분류 Logistic Regressiojn 적용\n",
    "- (참고) SVG 알고리즘으로 Recussive하게도 모델링 해보았지만 성능상 큰 차이가 없어 Logistic Regression으로만 정리함\n",
    "\n",
    "\n"
   ]
  },
  {
   "attachments": {},
   "cell_type": "markdown",
   "metadata": {},
   "source": [
    "***\n",
    "## [<span style=\"color:gold\">STEP01</span>] 데이터 준비하기 \n",
    "***"
   ]
  },
  {
   "attachments": {},
   "cell_type": "markdown",
   "metadata": {},
   "source": [
    "- data_v1.4_preprocessing_bykim_csv : (이진분류 (1. 휴학/자퇴/제적, 2. 재학))\n",
    "  \n",
    "  - 전체 데이터 중 선형 정량 데이터만 csv로 구성\n",
    "  - 8개의 입력과 1개의 출력이 나오는 이진분류\n",
    "  - target --> scolarregister : 1.자퇴/제적/휴학 2.재학\n",
    "<br><br><br>\n",
    "- 필드의 순서\n",
    "  - midtest\t(중간고사)\n",
    "  - finaltest\t(기말고사)\n",
    "  - attendance (출석점수)\n",
    "  - avggrade (평점평균)\n",
    "  - percentgrade (백분위점수)\n",
    "  - counselnum (상담건수)\n",
    "  - extralecture (비교과건수)\n",
    "  - scalarship (장학금)\n",
    "  - scolarregister ==> tartget (학적상태)\n",
    "  <br><br><br>\n",
    "- .csv 파일은 .py와 동일한 폴더에 위치시킴"
   ]
  },
  {
   "cell_type": "code",
   "execution_count": 53,
   "metadata": {
    "colab": {
     "base_uri": "https://localhost:8080/",
     "height": 198
    },
    "colab_type": "code",
    "executionInfo": {
     "elapsed": 1504,
     "status": "ok",
     "timestamp": 1588758012474,
     "user": {
      "displayName": "Haesun Park",
      "photoUrl": "https://lh3.googleusercontent.com/a-/AOh14GhsWlS7sKQL-9fIkg3FmxpTMz_u-KDSs8y__P1ngQ=s64",
      "userId": "14935388527648823821"
     },
     "user_tz": -540
    },
    "id": "Mba6QeEmLn3r",
    "outputId": "766ac4c4-11c8-4c22-8637-85b41f9f2f62"
   },
   "outputs": [
    {
     "data": {
      "text/html": [
       "<div>\n",
       "<style scoped>\n",
       "    .dataframe tbody tr th:only-of-type {\n",
       "        vertical-align: middle;\n",
       "    }\n",
       "\n",
       "    .dataframe tbody tr th {\n",
       "        vertical-align: top;\n",
       "    }\n",
       "\n",
       "    .dataframe thead th {\n",
       "        text-align: right;\n",
       "    }\n",
       "</style>\n",
       "<table border=\"1\" class=\"dataframe\">\n",
       "  <thead>\n",
       "    <tr style=\"text-align: right;\">\n",
       "      <th></th>\n",
       "      <th>midtest</th>\n",
       "      <th>finaltest</th>\n",
       "      <th>attendance</th>\n",
       "      <th>avggrade</th>\n",
       "      <th>percentgrade</th>\n",
       "      <th>counselnum</th>\n",
       "      <th>extralecture</th>\n",
       "      <th>scalarship</th>\n",
       "      <th>scolarregister</th>\n",
       "    </tr>\n",
       "  </thead>\n",
       "  <tbody>\n",
       "    <tr>\n",
       "      <th>0</th>\n",
       "      <td>27</td>\n",
       "      <td>38</td>\n",
       "      <td>30</td>\n",
       "      <td>4.5</td>\n",
       "      <td>100</td>\n",
       "      <td>1</td>\n",
       "      <td>4</td>\n",
       "      <td>251000</td>\n",
       "      <td>1</td>\n",
       "    </tr>\n",
       "    <tr>\n",
       "      <th>1</th>\n",
       "      <td>29</td>\n",
       "      <td>39</td>\n",
       "      <td>30</td>\n",
       "      <td>4.5</td>\n",
       "      <td>99</td>\n",
       "      <td>2</td>\n",
       "      <td>1</td>\n",
       "      <td>3325000</td>\n",
       "      <td>2</td>\n",
       "    </tr>\n",
       "    <tr>\n",
       "      <th>2</th>\n",
       "      <td>29</td>\n",
       "      <td>39</td>\n",
       "      <td>29</td>\n",
       "      <td>4.5</td>\n",
       "      <td>99</td>\n",
       "      <td>2</td>\n",
       "      <td>1</td>\n",
       "      <td>3325000</td>\n",
       "      <td>2</td>\n",
       "    </tr>\n",
       "    <tr>\n",
       "      <th>3</th>\n",
       "      <td>30</td>\n",
       "      <td>40</td>\n",
       "      <td>30</td>\n",
       "      <td>4.5</td>\n",
       "      <td>99</td>\n",
       "      <td>1</td>\n",
       "      <td>2</td>\n",
       "      <td>3921000</td>\n",
       "      <td>2</td>\n",
       "    </tr>\n",
       "    <tr>\n",
       "      <th>4</th>\n",
       "      <td>29</td>\n",
       "      <td>39</td>\n",
       "      <td>30</td>\n",
       "      <td>4.5</td>\n",
       "      <td>99</td>\n",
       "      <td>1</td>\n",
       "      <td>3</td>\n",
       "      <td>958960</td>\n",
       "      <td>2</td>\n",
       "    </tr>\n",
       "  </tbody>\n",
       "</table>\n",
       "</div>"
      ],
      "text/plain": [
       "   midtest  finaltest  attendance  avggrade  percentgrade  counselnum  \\\n",
       "0       27         38          30       4.5           100           1   \n",
       "1       29         39          30       4.5            99           2   \n",
       "2       29         39          29       4.5            99           2   \n",
       "3       30         40          30       4.5            99           1   \n",
       "4       29         39          30       4.5            99           1   \n",
       "\n",
       "   extralecture  scalarship  scolarregister  \n",
       "0             4      251000               1  \n",
       "1             1     3325000               2  \n",
       "2             1     3325000               2  \n",
       "3             2     3921000               2  \n",
       "4             3      958960               2  "
      ]
     },
     "execution_count": 53,
     "metadata": {},
     "output_type": "execute_result"
    }
   ],
   "source": [
    "#1 dhkim : csv 파일 로딩 + 처음 3개 데이터 확인\n",
    "\n",
    "import pandas as pd\n",
    "register_data = pd.read_csv('.//data_v1.4_preprocessing_bykim_csv.csv')\n",
    "register_data.head()\n"
   ]
  },
  {
   "attachments": {},
   "cell_type": "markdown",
   "metadata": {},
   "source": [
    "- Target 이진 데이터 값 확인\n",
    "  \n",
    "  - 최종 분류기준이 되는 학적상태(scolarregister)에 저장된 종류 확인\n",
    "  - 실행결과 = 이진분류라서 1(자퇴/제적/휴학), 2(재학) 두 가지 상태만 나옴"
   ]
  },
  {
   "cell_type": "code",
   "execution_count": 54,
   "metadata": {
    "colab": {
     "base_uri": "https://localhost:8080/",
     "height": 35
    },
    "colab_type": "code",
    "executionInfo": {
     "elapsed": 1495,
     "status": "ok",
     "timestamp": 1588758012475,
     "user": {
      "displayName": "Haesun Park",
      "photoUrl": "https://lh3.googleusercontent.com/a-/AOh14GhsWlS7sKQL-9fIkg3FmxpTMz_u-KDSs8y__P1ngQ=s64",
      "userId": "14935388527648823821"
     },
     "user_tz": -540
    },
    "id": "UWJWlRCHVWUg",
    "outputId": "b64599db-74b8-4feb-a5c0-d83e8543ef4f"
   },
   "outputs": [
    {
     "name": "stdout",
     "output_type": "stream",
     "text": [
      "[1 2]\n"
     ]
    }
   ],
   "source": [
    "#2 dhkim : 분류기준에 포함된 데이터 종류 출력 (이진의 경우 1(제적,휴학,자퇴)/2(재학))\n",
    "\n",
    "print(pd.unique(register_data['scolarregister']))\n"
   ]
  },
  {
   "cell_type": "markdown",
   "metadata": {},
   "source": [
    "***\n",
    "## [<span style=\"color:gold\">STEP02</span>] 데이터 입력 및 출력 컬럼 정의하기\n",
    "***"
   ]
  },
  {
   "attachments": {},
   "cell_type": "markdown",
   "metadata": {},
   "source": [
    "- 입력데이터 컬럼 정의\n",
    "  - 8개의 입력데이터 컬럼을 register_data_input으로 정의"
   ]
  },
  {
   "cell_type": "code",
   "execution_count": 55,
   "metadata": {
    "colab": {},
    "colab_type": "code",
    "id": "8JjMXc9wVE7C"
   },
   "outputs": [],
   "source": [
    "#3 dhkim : (학적상태를 예측하기 위해 사용한 8개의 입력 파라미터 (중간고사점수\t기말고사점수\t출석점수\t평점평균\t백분위점수\t상담건수\t비교과건수\t장학금))\n",
    "\n",
    "register_data_input = register_data[['midtest', 'finaltest', 'attendance', 'avggrade', 'percentgrade', 'counselnum', 'extralecture', 'scalarship']].to_numpy()\n"
   ]
  },
  {
   "cell_type": "markdown",
   "metadata": {},
   "source": [
    "- 입력데이터 확인\n",
    "  \n",
    "  -  상위 5개의 데이터 셋 출력확인"
   ]
  },
  {
   "cell_type": "code",
   "execution_count": 56,
   "metadata": {
    "colab": {
     "base_uri": "https://localhost:8080/",
     "height": 104
    },
    "colab_type": "code",
    "executionInfo": {
     "elapsed": 1487,
     "status": "ok",
     "timestamp": 1588758012476,
     "user": {
      "displayName": "Haesun Park",
      "photoUrl": "https://lh3.googleusercontent.com/a-/AOh14GhsWlS7sKQL-9fIkg3FmxpTMz_u-KDSs8y__P1ngQ=s64",
      "userId": "14935388527648823821"
     },
     "user_tz": -540
    },
    "id": "1T6C1d5iMzb8",
    "outputId": "4340a3a5-b0ce-4d38-9f74-704330f76741",
    "scrolled": true
   },
   "outputs": [
    {
     "name": "stdout",
     "output_type": "stream",
     "text": [
      "[[2.7000e+01 3.8000e+01 3.0000e+01 4.5000e+00 1.0000e+02 1.0000e+00\n",
      "  4.0000e+00 2.5100e+05]\n",
      " [2.9000e+01 3.9000e+01 3.0000e+01 4.5000e+00 9.9000e+01 2.0000e+00\n",
      "  1.0000e+00 3.3250e+06]\n",
      " [2.9000e+01 3.9000e+01 2.9000e+01 4.5000e+00 9.9000e+01 2.0000e+00\n",
      "  1.0000e+00 3.3250e+06]\n",
      " [3.0000e+01 4.0000e+01 3.0000e+01 4.5000e+00 9.9000e+01 1.0000e+00\n",
      "  2.0000e+00 3.9210e+06]\n",
      " [2.9000e+01 3.9000e+01 3.0000e+01 4.5000e+00 9.9000e+01 1.0000e+00\n",
      "  3.0000e+00 9.5896e+05]]\n"
     ]
    }
   ],
   "source": [
    "#4 dhkim : (8개 입력 파라미터의 수치 데이터 중 상위 5개를 확인)\n",
    "\n",
    "print(register_data_input[:5])\n"
   ]
  },
  {
   "cell_type": "markdown",
   "metadata": {},
   "source": [
    "- 출력데이터 컬럼 정의\n",
    "  \n",
    "  - 마지막 데이터인 scolarregister 값을 타겟 데이터로 정의"
   ]
  },
  {
   "cell_type": "code",
   "execution_count": 57,
   "metadata": {
    "colab": {},
    "colab_type": "code",
    "id": "aB2oHhojTfWE"
   },
   "outputs": [],
   "source": [
    "#5 dhkim : 타겟으로 사용할 실제 학적정보 데이터 추출\n",
    "\n",
    "register_data_target = register_data['scolarregister'].to_numpy()\n"
   ]
  },
  {
   "cell_type": "markdown",
   "metadata": {},
   "source": [
    "***\n",
    "## [<span style=\"color:gold\">STEP03</span>] 학습데이터와 테스트데이터 분할(split)\n",
    "***"
   ]
  },
  {
   "cell_type": "markdown",
   "metadata": {},
   "source": [
    "- 전체 데이터(4207개) 분할 (학습 + 테스트)\n",
    "\n",
    "    - 학습데이터 : 3155 : 모델 설계에 사용되는 학습용 데이터\n",
    "    - 테스트데이터 : 1052 : 학습이후의 모델을 이용하여 성능을 테스트하기 위해 사용되는 데이터"
   ]
  },
  {
   "cell_type": "code",
   "execution_count": 58,
   "metadata": {
    "colab": {},
    "colab_type": "code",
    "id": "dkllezAJW63K"
   },
   "outputs": [
    {
     "name": "stdout",
     "output_type": "stream",
     "text": [
      "(3155, 8)\n",
      "(1052, 8)\n"
     ]
    }
   ],
   "source": [
    "#6 dhkim : 원본 데이터를 학습 데이터 + 테스트 데이터로 분류 (overfitting 방지를 위해)\n",
    "\n",
    "from sklearn.model_selection import train_test_split\n",
    "\n",
    "train_input, test_input, train_target, test_target = train_test_split(\n",
    "    register_data_input, register_data_target, random_state=42)\n",
    "\n",
    "print(train_input.shape) #3155/4207\n",
    "print(test_input.shape) #1052/4207"
   ]
  },
  {
   "cell_type": "markdown",
   "metadata": {},
   "source": [
    "***\n",
    "## [<span style=\"color:gold\">STEP04</span>] 입력데이터의 스케일링\n",
    "***"
   ]
  },
  {
   "cell_type": "markdown",
   "metadata": {},
   "source": [
    "- 입력데이터 스케일링\n",
    "\n",
    "    - 입력데이터의 가중치 편중을 방지하기 위해 표준 스케일링 적용"
   ]
  },
  {
   "cell_type": "code",
   "execution_count": 59,
   "metadata": {
    "colab": {},
    "colab_type": "code",
    "id": "H0ujq0BjXpfp"
   },
   "outputs": [],
   "source": [
    "#7 dhkim : 입력데이터를 동일한 스케이로 스케일링 함으로써 입력 파라미터 편향성 방지 (이 부분을 skip하면 테스트 예측율이 72%-->48%로 떨어짐)\n",
    "\n",
    "from sklearn.preprocessing import StandardScaler\n",
    "\n",
    "ss = StandardScaler()\n",
    "ss.fit(train_input)\n",
    "train_scaled = ss.transform(train_input)\n",
    "test_scaled = ss.transform(test_input)\n"
   ]
  },
  {
   "cell_type": "markdown",
   "metadata": {},
   "source": [
    "- 스케일링된 입력데이터 확인\n",
    "  \n",
    "    - 표준 스케일링 된 입력데이터의 상위 5개 확인\n",
    "    - 전체적으로 동일 스케일을 가짐"
   ]
  },
  {
   "cell_type": "code",
   "execution_count": 60,
   "metadata": {},
   "outputs": [
    {
     "name": "stdout",
     "output_type": "stream",
     "text": [
      "[[ 0.49701052  0.14099403 -0.14262392  0.17362412  0.24016117 -0.42832932\n",
      "  -0.98690041 -1.00011178]\n",
      " [-0.02777803  0.25018308  0.18848606 -0.00930595  0.13920741 -0.42832932\n",
      "   0.81360313 -0.83104737]\n",
      " [ 0.49701052  0.7961283   0.18848606  0.63094928  0.54302247 -0.42832932\n",
      "  -0.38673256 -1.00011178]\n",
      " [-1.07735513 -1.60603069 -1.30150882 -1.56421152 -1.17319157  1.2975698\n",
      "  -0.98690041 -0.27668338]\n",
      " [ 0.84686955  0.25018308  0.68515102  0.99680942  0.79540689 -0.42832932\n",
      "   0.21343529 -0.83104737]]\n"
     ]
    }
   ],
   "source": [
    "#8 dhkim : 스케일링 된 데이터 중 상위 5개 확인\n",
    "\n",
    "# trani_scaled = train_input\n",
    "# test_scaled = test_input\n",
    "\n",
    "print(train_scaled[:5])\n"
   ]
  },
  {
   "cell_type": "markdown",
   "metadata": {},
   "source": [
    "***\n",
    "## [<span style=\"color:gold\">STEP05</span>] 로지스틱 회귀(LogisticRegression)로 이진 분류 수행\n",
    "***"
   ]
  },
  {
   "attachments": {},
   "cell_type": "markdown",
   "metadata": {
    "colab_type": "text",
    "id": "1J6LGKpUJbFE"
   },
   "source": [
    "- 로지스틱 회귀로 이진 분류 수행하기\n",
    "\n",
    "    - 학습데이터(3155개)를 이용한 로지스틱회귀 모델 적용\n",
    "    - 학습데이터에서의 정확도 / 테스트에서의 정확도 확인"
   ]
  },
  {
   "cell_type": "code",
   "execution_count": 61,
   "metadata": {
    "colab": {
     "base_uri": "https://localhost:8080/",
     "height": 104
    },
    "colab_type": "code",
    "executionInfo": {
     "elapsed": 2509,
     "status": "ok",
     "timestamp": 1588758013558,
     "user": {
      "displayName": "Haesun Park",
      "photoUrl": "https://lh3.googleusercontent.com/a-/AOh14GhsWlS7sKQL-9fIkg3FmxpTMz_u-KDSs8y__P1ngQ=s64",
      "userId": "14935388527648823821"
     },
     "user_tz": -540
    },
    "id": "jEzP0aeXANra",
    "outputId": "f2a517ee-e12b-4e4b-f888-267940b9933f"
   },
   "outputs": [
    {
     "name": "stdout",
     "output_type": "stream",
     "text": [
      "0.7169572107765452\n",
      "0.7262357414448669\n"
     ]
    }
   ],
   "source": [
    "#9 dhkim : LogisticRegression을 이용한 분류 수행 (이진/다중) + 예측정확도 산출\n",
    "\n",
    "from sklearn.linear_model import LogisticRegression\n",
    "lr = LogisticRegression()\n",
    "lr.fit(train_scaled, train_target) #모델생성\n",
    "\n",
    "print(lr.score(train_scaled, train_target)) # train 데이터에서의 예측률 \n",
    "print(lr.score(test_scaled, test_target)) # test 데이터에서의 에측률\n",
    "\n",
    "# 현재 2진분류의 경우 70% 정도 나옴 (실제 데이터의 수가 1:1 정도이기 때문에 임의 예측 확률은 50%임 (데이터 편향성 없음))\n",
    "# v0.9에 사용된 데이터의 경우 정확한 데이터는 학습용데이터 71.69572%, 테스트용 데이터 72.62357%임\n"
   ]
  },
  {
   "cell_type": "markdown",
   "metadata": {},
   "source": [
    "***\n",
    "## [<span style=\"color:gold\">STEP06</span>] 생성모델을 활용한 예측 결과 확인\n",
    "***"
   ]
  },
  {
   "cell_type": "markdown",
   "metadata": {},
   "source": [
    "- train 데이터 + test 데이터 최초 10개 예측결과 비교\n",
    "\n",
    "    - train 데이터 최초 10개 비교 (9개/10개 예측 정확도)\n",
    "    - test 데이터 최초 10개 비교 (6개/10개 예측 정확도)"
   ]
  },
  {
   "cell_type": "code",
   "execution_count": 62,
   "metadata": {
    "colab": {
     "base_uri": "https://localhost:8080/",
     "height": 35
    },
    "colab_type": "code",
    "executionInfo": {
     "elapsed": 2503,
     "status": "ok",
     "timestamp": 1588758013558,
     "user": {
      "displayName": "Haesun Park",
      "photoUrl": "https://lh3.googleusercontent.com/a-/AOh14GhsWlS7sKQL-9fIkg3FmxpTMz_u-KDSs8y__P1ngQ=s64",
      "userId": "14935388527648823821"
     },
     "user_tz": -540
    },
    "id": "VtEWtsB7EIgm",
    "outputId": "fdf05d54-167d-4712-9fbf-8fe1a57847f6"
   },
   "outputs": [
    {
     "name": "stdout",
     "output_type": "stream",
     "text": [
      "[1 2 2 1 1 2 1 1 2 2]\n",
      "[1 2 1 1 1 2 1 1 2 2]\n",
      "[2 1 2 1 1 1 2 1 2 1]\n",
      "[1 2 1 1 1 1 2 2 2 1]\n"
     ]
    }
   ],
   "source": [
    "#10. dhkim : 생성한 모델을 이용하여 train 데이터 처음 10개 및 test 데이터 처음 10개를 예측한 결과와 실제 데이터를 비교함\n",
    "\n",
    "print(lr.predict(train_scaled[:10]))\n",
    "print(train_target[:10])\n",
    "\n",
    "print(lr.predict(test_scaled[:10]))\n",
    "print(test_target[:10])\n"
   ]
  },
  {
   "cell_type": "markdown",
   "metadata": {},
   "source": [
    "***\n",
    "## [<span style=\"color:gold\">STEP07</span>] 예측값을 각각 확률로 계산 (즉, 임계값 적용전)\n",
    "***"
   ]
  },
  {
   "cell_type": "code",
   "execution_count": 63,
   "metadata": {
    "colab": {
     "base_uri": "https://localhost:8080/",
     "height": 104
    },
    "colab_type": "code",
    "executionInfo": {
     "elapsed": 2497,
     "status": "ok",
     "timestamp": 1588758013558,
     "user": {
      "displayName": "Haesun Park",
      "photoUrl": "https://lh3.googleusercontent.com/a-/AOh14GhsWlS7sKQL-9fIkg3FmxpTMz_u-KDSs8y__P1ngQ=s64",
      "userId": "14935388527648823821"
     },
     "user_tz": -540
    },
    "id": "3H_qieV-_CTt",
    "outputId": "6eecaf43-3895-4e70-df23-9f100e9c1f88"
   },
   "outputs": [
    {
     "name": "stdout",
     "output_type": "stream",
     "text": [
      "[[0.70673136 0.29326864]\n",
      " [0.40329554 0.59670446]\n",
      " [0.46227054 0.53772946]\n",
      " [0.90187178 0.09812822]\n",
      " [0.65170707 0.34829293]]\n"
     ]
    }
   ],
   "source": [
    "#11. dhkim : 생성한 모델을 이용하여 (자퇴/휴학/제적) 확률과 재학확률을 %로 산출하는 코드 (입력데이터를 생성하여 scaling 한후 입력)\n",
    "\n",
    "# print([[ 0.65048643,  0.44514596,  0.33714023,  0.41518783,  0.36659923,  0.39726523, 0.20162298, -0.83899854]])\n",
    "# print(lr.predict_proba([[ 0.65048643,  0.44514596,  0.33714023,  0.41518783,  0.36659923,  0.39726523, 0.20162298, -0.83899854]]))\n",
    "print(lr.predict_proba(train_scaled[:5])) # train 데이터 상위 5개에 대한 예측 확률 12211의 순으로 선택됨\n",
    "\n",
    "# *** 이를 코드화 하여 Threshold를 0.5가 아닌 0.6, 0.7이상으로 하였을때 (제적/휴학/자퇴) 예측률을 올려 상담 대상을 추출하는 코드 작성 ***\n"
   ]
  },
  {
   "cell_type": "markdown",
   "metadata": {},
   "source": [
    "***\n",
    "## [<span style=\"color:gold\">STEP08</span>] 예측 Taget종류와 가중치 및 바이어스 확인\n",
    "***"
   ]
  },
  {
   "cell_type": "markdown",
   "metadata": {},
   "source": [
    "- 타겟 클래스 + 가중치/바이어스\n",
    "\n",
    "    - 타겟 클래스 (1: 휴학/자퇴/제적, 2: 재학)\n",
    "    - 가중치 및 바이어스 \n",
    "      - 1.midtest\t(중간고사)\n",
    "      - 2.finaltest\t(기말고사)\n",
    "      - 3.attendance (출석점수)\n",
    "      - 4.avggrade (평점평균)\n",
    "      - 5.percentgrade (백분위점수)\n",
    "      - 6.counselnum (상담건수)\n",
    "      - 7.extralecture (비교과건수)\n",
    "      - 8.scalarship (장학금)\n",
    "      - scolarregister ==> tartget (학적상태)"
   ]
  },
  {
   "cell_type": "code",
   "execution_count": 64,
   "metadata": {
    "colab": {
     "base_uri": "https://localhost:8080/",
     "height": 35
    },
    "colab_type": "code",
    "executionInfo": {
     "elapsed": 2493,
     "status": "ok",
     "timestamp": 1588758013559,
     "user": {
      "displayName": "Haesun Park",
      "photoUrl": "https://lh3.googleusercontent.com/a-/AOh14GhsWlS7sKQL-9fIkg3FmxpTMz_u-KDSs8y__P1ngQ=s64",
      "userId": "14935388527648823821"
     },
     "user_tz": -540
    },
    "id": "Mm60bpr7EQKU",
    "outputId": "ce578218-05af-4561-d811-aca01e72d030"
   },
   "outputs": [
    {
     "name": "stdout",
     "output_type": "stream",
     "text": [
      "[1 2]\n",
      "[[-0.00262386  1.60959221  0.1425343  -0.84212373  0.07785827  0.09102498\n",
      "   0.48422687  0.17124042]] [-0.26922519]\n"
     ]
    }
   ],
   "source": [
    "#12. dhkim : 현재 예측하고 있는 target의 종류 추출 + 로지스틱회귀모델에서의 가중치와 바이어스 (영향을 주는 정도) 값 확인\n",
    "\n",
    "print(lr.classes_) # target 클래스 추출\n",
    "print(lr.coef_, lr.intercept_) # 로지스틱회귀모델에서의 가중치와 바이어스\n",
    "\n",
    "# 가중치의 절대값 크기순서 : 2. 기말고사(1.6095)-->7. 평점평균(-0.84212)-->7. 비교과(0.484227)-->8.장학금(0.17124)-->3.출석점수(0.142534)-->6.상담건수(0.091025)-->5.백분위점수(0.077858)-->1.중간고사(-0.00262)\n",
    "# 일반적으로 생각하는 것과는 다소 다르게 나왔음\n"
   ]
  },
  {
   "cell_type": "markdown",
   "metadata": {},
   "source": [
    "***\n",
    "## [<span style=\"color:gold\">STEP09</span>] 모델을 이용하여 예측 확률 출력 (이진분류)\n",
    "***"
   ]
  },
  {
   "cell_type": "markdown",
   "metadata": {},
   "source": [
    "- 이진분류이기 때문에 양성(2:재학)의 확률만 나타남\n",
    "  \n",
    "  - 양성일 확률(재학(:2)일 확률)>=0.5 이면 재학 그렇지 않은 경우 휴학/자퇴/제적임\n",
    "  - 이 값의 임계치(threshold)를 조정하여 중도탈락 예상자 축소필요"
   ]
  },
  {
   "cell_type": "code",
   "execution_count": 65,
   "metadata": {
    "colab": {
     "base_uri": "https://localhost:8080/",
     "height": 35
    },
    "colab_type": "code",
    "executionInfo": {
     "elapsed": 2484,
     "status": "ok",
     "timestamp": 1588758013559,
     "user": {
      "displayName": "Haesun Park",
      "photoUrl": "https://lh3.googleusercontent.com/a-/AOh14GhsWlS7sKQL-9fIkg3FmxpTMz_u-KDSs8y__P1ngQ=s64",
      "userId": "14935388527648823821"
     },
     "user_tz": -540
    },
    "id": "SxrRy9m8A5Hy",
    "outputId": "20e0f3ff-5173-4e72-86ef-93ad213f9b5b"
   },
   "outputs": [
    {
     "name": "stdout",
     "output_type": "stream",
     "text": [
      "[0.29326864 0.59670446 0.53772946 0.09812822 0.34829293]\n"
     ]
    }
   ],
   "source": [
    "#13. dhkim : 결과를 예측하는데 사용하는 decision 함수: 2진 분류의 경우 두번째 즉 여기서는 재학률(target 2)의 확률이 나옴\n",
    "\n",
    "from scipy.special import expit\n",
    "decisions = lr.decision_function(train_scaled[:5])\n",
    "#print(decisions)\n",
    "print(expit(decisions)) #decision을 위해 사용한 값 (여기서는 2 즉, 재학의 확률이 나옴)\n"
   ]
  },
  {
   "cell_type": "markdown",
   "metadata": {},
   "source": [
    "***\n",
    "## [<span style=\"color:gold\">STEP10</span>] 예측 임계값 조정을 통한 휴학/자퇴/제적 예측 확률 높이기 (매트릭, 임계값조정)\n",
    "***"
   ]
  },
  {
   "attachments": {},
   "cell_type": "markdown",
   "metadata": {},
   "source": [
    "- 예측 확률상에서 0.5가 아닌 0.6/0.7/0.8/0.9 이상을 찾아 아래의 네 가지 경우 중 1(제적/휴학/자퇴) 2(재학)\n",
    "\n",
    "        1 -> 1 : 실제값(휴학/자퇴/제적) - 예측값(휴학/자퇴/제적) ==> 가장 관심있는 영역\n",
    "        1 -> 2 : 실제값(휴학/자퇴/제적) - 예측값(재학)\n",
    "        2 -> 1 : 실제값(재학) - 예측값(휴학/자퇴/제적)\n",
    "        2 -> 2 : 실제값(재학) - 예측값(재학)\n",
    "\n",
    "        **1 -> 1 : 실제값(휴학/자퇴/제적) - 예측값(휴학/자퇴/제적)의 예측 확률을 올리는 방안 마련**"
   ]
  },
  {
   "cell_type": "markdown",
   "metadata": {},
   "source": [
    "- 임계값이 = 0.5 (default) 일때의 매트릭 (Default)\n",
    "\n",
    "    - 임계값의 default 값 0.5를 사용 (lr.predict 사용)\n",
    "    - confusion_matrix (실제값, 예측값) : hit 매트릭 산출"
   ]
  },
  {
   "cell_type": "code",
   "execution_count": 77,
   "metadata": {},
   "outputs": [
    {
     "name": "stdout",
     "output_type": "stream",
     "text": [
      "[1 2 2 ... 1 1 1]\n",
      "(3155,)\n"
     ]
    },
    {
     "data": {
      "text/plain": [
       "array([[1166,  502],\n",
       "       [ 391, 1096]], dtype=int64)"
      ]
     },
     "execution_count": 77,
     "metadata": {},
     "output_type": "execute_result"
    }
   ],
   "source": [
    "from sklearn.metrics import confusion_matrix\n",
    "predicted_value = lr.predict(train_scaled)\n",
    "print(predicted_value)\n",
    "print(train_target.shape)\n",
    "confusion_matrix(train_target, predicted_value)\n",
    "# print(lr.predict(train_scaled[:10]))\n",
    "# print(train_target[:10])\n",
    "# confusion_matrix(df.species, y_pred)\n",
    "# confusion_matrix([0,1,1,0,1,0], [0,1,1,1,0,1]) #첫번째 매개변수 : 실제값, 두번째 매개변수 예측값\n"
   ]
  },
  {
   "cell_type": "markdown",
   "metadata": {},
   "source": [
    "- 임계값에 따른 예측을 위해 예측 확률값으로 데이터 셋 구성\n",
    "\n",
    "    - trainData 대상 : probabilityOfQuitForTrainData = 샘플수 * 2의 크기를 가짐 (0-column: 휴학/자퇴/제적 확률, 1-column: 재학확률)\n",
    "    - testData 대상 : probabilityOfQuitForTestData = 샘플수 * 2의 크기를 가짐 (0-column: 휴학/자퇴/제적 확률, 1-column: 재학확률)"
   ]
  },
  {
   "cell_type": "code",
   "execution_count": 110,
   "metadata": {},
   "outputs": [],
   "source": [
    "#print(lr.predict_proba(train_scaled)) # train 데이터 상위 5개에 대한 예측 확률 \n",
    "probabilityOfQuitForTrainData = lr.predict_proba(train_scaled)[:,0] #제적/휴학/자퇴 할 확률 (train_scaled)\n",
    "#print(lr.predict_proba(train_scaled)) # train 데이터 상위 5개에 대한 예측 확률 \n",
    "probabilityOfQuitForTestData = lr.predict_proba(test_scaled)[:,0] #제적/휴학/자퇴 할 확률 (test_scaled)\n",
    "\n",
    "# print(probabilityOfQuitForTrainData)\n",
    "# print(probabilityOfQuitForTestData)\n",
    "\n",
    "# print(probabilityOfQuitForTrainData.shape)\n",
    "# print(probabilityOfQuitForTestData.shape)\n",
    "\n"
   ]
  },
  {
   "cell_type": "markdown",
   "metadata": {},
   "source": [
    "- Train_scaled + Test_scaled 데이터의 예측 매트릭을 구하기 위한 데이터 행렬 선언\n",
    "  \n",
    "    - probabilityOfQuitForTrainData_Th_XX : 대상 데이터 = Train_scaled, 임계값 = XX\n",
    "    - probabilityOfQuitForTestData_Th_XX : 대상 데이터 = Test_scaled, 임계값 = XX\n",
    "\n",
    "    - 기본값이 1로 세팅되어 있어 2인 경우만 수정해줌"
   ]
  },
  {
   "cell_type": "code",
   "execution_count": 111,
   "metadata": {},
   "outputs": [],
   "source": [
    "import numpy as np;\n",
    "\n",
    "probabilityOfQuitForTrainData_Th_50=np.ones(probabilityOfQuitForTrainData.shape[0])\n",
    "probabilityOfQuitForTrainData_Th_60=np.ones(probabilityOfQuitForTrainData.shape[0])\n",
    "probabilityOfQuitForTrainData_Th_70=np.ones(probabilityOfQuitForTrainData.shape[0])\n",
    "probabilityOfQuitForTrainData_Th_80=np.ones(probabilityOfQuitForTrainData.shape[0])\n",
    "probabilityOfQuitForTrainData_Th_90=np.ones(probabilityOfQuitForTrainData.shape[0])\n",
    "\n",
    "probabilityOfQuitForTestData_Th_50=np.ones(probabilityOfQuitForTestData.shape[0])\n",
    "probabilityOfQuitForTestData_Th_60=np.ones(probabilityOfQuitForTestData.shape[0])\n",
    "probabilityOfQuitForTestData_Th_70=np.ones(probabilityOfQuitForTestData.shape[0])\n",
    "probabilityOfQuitForTestData_Th_80=np.ones(probabilityOfQuitForTestData.shape[0])\n",
    "probabilityOfQuitForTestData_Th_90=np.ones(probabilityOfQuitForTestData.shape[0])\n"
   ]
  },
  {
   "cell_type": "markdown",
   "metadata": {},
   "source": [
    "- 임계값이 = 0.5 (임계값을 custom으로 설정하는 경우) 일때의 매트릭 (Threshold 설정)\n",
    "\n",
    "    - 임계값 Threshold = 0.5 일때의 Train_scaled 데이터 대상 / Test_sacled 데이터 대상"
   ]
  },
  {
   "cell_type": "code",
   "execution_count": 121,
   "metadata": {},
   "outputs": [
    {
     "name": "stdout",
     "output_type": "stream",
     "text": [
      "[[1166  502]\n",
      " [ 391 1096]]\n",
      "[[372 167]\n",
      " [121 392]]\n"
     ]
    }
   ],
   "source": [
    "Threshold = 0.5\n",
    "\n",
    "# train_scaled\n",
    "# probabilityOfQuitForTrainData_Th_50[probabilityOfQuitForTrainData>Threshold]=1\n",
    "probabilityOfQuitForTrainData_Th_50[probabilityOfQuitForTrainData<=Threshold]=2\n",
    "#print(probabilityOfQuitForTrainData_Th_50)\n",
    "print(confusion_matrix(train_target, probabilityOfQuitForTrainData_Th_50))\n",
    "\n",
    "# test_scaled\n",
    "# probabilityOfQuitForTestData_Th_50[probabilityOfQuitForTestData>Threshold]=1\n",
    "probabilityOfQuitForTestData_Th_50[probabilityOfQuitForTestData<=Threshold]=2\n",
    "#print(probabilityOfQuitForTestData_Th_50)\n",
    "print(confusion_matrix(test_target, probabilityOfQuitForTestData_Th_50))\n"
   ]
  },
  {
   "cell_type": "markdown",
   "metadata": {},
   "source": [
    "- 임계값이 = 0.6 (임계값을 custom으로 설정하는 경우) 일때의 매트릭 (Threshold 설정)\n",
    "\n",
    "    - 임계값 Threshold = 0.6 일때의 Train_scaled 데이터 대상 / Test_sacled 데이터 대상"
   ]
  },
  {
   "cell_type": "code",
   "execution_count": 125,
   "metadata": {},
   "outputs": [
    {
     "name": "stdout",
     "output_type": "stream",
     "text": [
      "[[ 881  787]\n",
      " [ 136 1351]]\n",
      "[[277 262]\n",
      " [ 35 478]]\n"
     ]
    }
   ],
   "source": [
    "Threshold = 0.6\n",
    "\n",
    "# train_scaled\n",
    "# probabilityOfQuitForTrainData_Th_60[probabilityOfQuitForTrainData>Threshold]=1\n",
    "probabilityOfQuitForTrainData_Th_60[probabilityOfQuitForTrainData<=Threshold]=2\n",
    "#print(probabilityOfQuitForTrainData_Th_60)\n",
    "print(confusion_matrix(train_target, probabilityOfQuitForTrainData_Th_60))\n",
    "\n",
    "# test_scaled\n",
    "# probabilityOfQuitForTestData_Th_60[probabilityOfQuitForTestData>Threshold]=1\n",
    "probabilityOfQuitForTestData_Th_60[probabilityOfQuitForTestData<=Threshold]=2\n",
    "#print(probabilityOfQuitForTestData_Th_60)\n",
    "print(confusion_matrix(test_target, probabilityOfQuitForTestData_Th_60))\n"
   ]
  },
  {
   "cell_type": "markdown",
   "metadata": {},
   "source": [
    "- 임계값이 = 0.7 (임계값을 custom으로 설정하는 경우) 일때의 매트릭 (Threshold 설정)\n",
    "\n",
    "    - 임계값 Threshold = 0.7 일때의 Train_scaled 데이터 대상 / Test_sacled 데이터 대상"
   ]
  },
  {
   "cell_type": "code",
   "execution_count": 126,
   "metadata": {},
   "outputs": [
    {
     "name": "stdout",
     "output_type": "stream",
     "text": [
      "[[ 588 1080]\n",
      " [  53 1434]]\n",
      "[[188 351]\n",
      " [ 14 499]]\n"
     ]
    }
   ],
   "source": [
    "Threshold = 0.7\n",
    "\n",
    "# train_scaled\n",
    "# probabilityOfQuitForTrainData_Th_70[probabilityOfQuitForTrainData>Threshold]=1\n",
    "probabilityOfQuitForTrainData_Th_70[probabilityOfQuitForTrainData<=Threshold]=2\n",
    "#print(probabilityOfQuitForTrainData_Th_70)\n",
    "print(confusion_matrix(train_target, probabilityOfQuitForTrainData_Th_70))\n",
    "\n",
    "# test_scaled\n",
    "# probabilityOfQuitForTestData_Th_70[probabilityOfQuitForTestData>Threshold]=1\n",
    "probabilityOfQuitForTestData_Th_70[probabilityOfQuitForTestData<=Threshold]=2\n",
    "#print(probabilityOfQuitForTestData_Th_70)\n",
    "print(confusion_matrix(test_target, probabilityOfQuitForTestData_Th_70))\n"
   ]
  },
  {
   "cell_type": "markdown",
   "metadata": {},
   "source": [
    "- 임계값이 = 0.8(임계값을 custom으로 설정하는 경우) 일때의 매트릭 (Threshold 설정)\n",
    "\n",
    "    - 임계값 Threshold = 0.8 일때의 Train_scaled 데이터 대상 / Test_sacled 데이터 대상"
   ]
  },
  {
   "cell_type": "code",
   "execution_count": 127,
   "metadata": {},
   "outputs": [
    {
     "name": "stdout",
     "output_type": "stream",
     "text": [
      "[[ 436 1232]\n",
      " [  21 1466]]\n",
      "[[135 404]\n",
      " [  4 509]]\n"
     ]
    }
   ],
   "source": [
    "Threshold = 0.8\n",
    "\n",
    "# train_scaled\n",
    "# probabilityOfQuitForTrainData_Th_80[probabilityOfQuitForTrainData>Threshold]=1\n",
    "probabilityOfQuitForTrainData_Th_80[probabilityOfQuitForTrainData<=Threshold]=2\n",
    "#print(probabilityOfQuitForTrainData_Th_80)\n",
    "print(confusion_matrix(train_target, probabilityOfQuitForTrainData_Th_80))\n",
    "\n",
    "# test_scaled\n",
    "# probabilityOfQuitForTestData_Th_80[probabilityOfQuitForTestData>Threshold]=1\n",
    "probabilityOfQuitForTestData_Th_80[probabilityOfQuitForTestData<=Threshold]=2\n",
    "#print(probabilityOfQuitForTestData_Th_80)\n",
    "print(confusion_matrix(test_target, probabilityOfQuitForTestData_Th_80))\n"
   ]
  },
  {
   "cell_type": "markdown",
   "metadata": {},
   "source": [
    "- 임계값이 = 0.9 (임계값을 custom으로 설정하는 경우) 일때의 매트릭 (Threshold 설정)\n",
    "\n",
    "    - 임계값 Threshold = 0.9 일때의 Train_scaled 데이터 대상 / Test_sacled 데이터 대상"
   ]
  },
  {
   "cell_type": "code",
   "execution_count": 124,
   "metadata": {},
   "outputs": [
    {
     "name": "stdout",
     "output_type": "stream",
     "text": [
      "[[ 312 1356]\n",
      " [  10 1477]]\n",
      "[[ 99 440]\n",
      " [  2 511]]\n"
     ]
    }
   ],
   "source": [
    "Threshold = 0.9\n",
    "\n",
    "# train_scaled\n",
    "# probabilityOfQuitForTrainData_Th_90[probabilityOfQuitForTrainData>Threshold]=1\n",
    "probabilityOfQuitForTrainData_Th_90[probabilityOfQuitForTrainData<=Threshold]=2\n",
    "#print(probabilityOfQuitForTrainData_Th_90)\n",
    "print(confusion_matrix(train_target, probabilityOfQuitForTrainData_Th_90))\n",
    "\n",
    "# test_scaled\n",
    "# probabilityOfQuitForTestData_Th_90[probabilityOfQuitForTestData>Threshold]=1\n",
    "probabilityOfQuitForTestData_Th_90[probabilityOfQuitForTestData<=Threshold]=2\n",
    "#print(probabilityOfQuitForTestData_Th_90)\n",
    "print(confusion_matrix(test_target, probabilityOfQuitForTestData_Th_90))\n"
   ]
  },
  {
   "cell_type": "markdown",
   "metadata": {},
   "source": [
    "## 여기까지의 결과 정리해서 논문 제출 필요 (Github Upload + 데이터 포함)"
   ]
  }
 ],
 "metadata": {
  "colab": {
   "authorship_tag": "ABX9TyOmMa1Tbi/tsthldu49UJII",
   "collapsed_sections": [],
   "name": "4-1 로지스틱 회귀.ipynb",
   "provenance": []
  },
  "kernelspec": {
   "display_name": "TensorFlow 2.3 on Python 3.6 (CUDA 10.1)",
   "language": "python",
   "name": "python3"
  },
  "language_info": {
   "codemirror_mode": {
    "name": "ipython",
    "version": 3
   },
   "file_extension": ".py",
   "mimetype": "text/x-python",
   "name": "python",
   "nbconvert_exporter": "python",
   "pygments_lexer": "ipython3",
   "version": "3.10.11"
  }
 },
 "nbformat": 4,
 "nbformat_minor": 1
}
